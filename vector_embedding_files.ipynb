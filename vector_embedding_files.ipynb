{
 "cells": [
  {
   "cell_type": "code",
   "execution_count": null,
   "metadata": {},
   "outputs": [
    {
     "name": "stdout",
     "output_type": "stream",
     "text": [
      "http://192.168.100.69:11434\n"
     ]
    }
   ],
   "source": [
    "import os\n",
    "from langchain_ollama import OllamaEmbeddings\n",
    "from langchain_community.document_loaders import DirectoryLoader, PyMuPDFLoader\n",
    "from langchain_community.vectorstores import FAISS\n",
    "from langchain.text_splitter import RecursiveCharacterTextSplitter\n",
    "import traceback\n",
    "from dotenv import dotenv_values\n",
    "config = dotenv_values(\".env\")\n",
    "print(config['IP_OLLAMA'])\n",
    "\n",
    "\n",
    "def count_unique_extensions(directory):\n",
    "    unique_extensions = set()\n",
    "    for _, _, files in os.walk(directory):\n",
    "        for file in files:\n",
    "            _, extension = os.path.splitext(file)\n",
    "            if extension != \"\":\n",
    "                unique_extensions.add(extension)\n",
    "    return unique_extensions\n",
    "\n",
    "def vectoring_process(directory):\n",
    "    try :\n",
    "        check_unique_extension = count_unique_extensions(directory)\n",
    "        all_docs = []\n",
    "        for ext in check_unique_extension:\n",
    "            loader = DirectoryLoader(directory, glob=f\"**/*{ext}\", show_progress=True, loader_cls=PyMuPDFLoader)\n",
    "        all_docs.extend(loader.load())\n",
    "        embeddings = OllamaEmbeddings(model=\"bge-m3\", base_url=config['IP_OLLAMA'])\n",
    "        text_splitter = RecursiveCharacterTextSplitter(\n",
    "            separators=[\"\\n\\n\", \"]\", \"\\n\", \";\"],\n",
    "            chunk_size=200,\n",
    "            chunk_overlap=50,\n",
    "            length_function=len,\n",
    "            is_separator_regex=False,\n",
    "        )\n",
    "        print(\"all docs\", all_docs)\n",
    "        split_docs = text_splitter.split_documents(all_docs)\n",
    "        vector_store = FAISS.from_documents(split_docs, embeddings)\n",
    "        vector_store.save_local(\"vectoring/embeddings/\")\n",
    "        return True\n",
    "    except Exception as e:\n",
    "        print(\"err \", traceback.format_exc())\n",
    "        return False\n",
    "\n",
    "vectoring_process(\"/Users/birutekno/Documents/Project/soca-ml-app/materi-gdg/vectoring/sample_files/\")"
   ]
  },
  {
   "cell_type": "code",
   "execution_count": null,
   "metadata": {},
   "outputs": [],
   "source": []
  },
  {
   "cell_type": "code",
   "execution_count": null,
   "metadata": {},
   "outputs": [
    {
     "name": "stderr",
     "output_type": "stream",
     "text": [
      "100%|██████████| 1/1 [00:00<00:00, 42.71it/s]\n"
     ]
    },
    {
     "name": "stdout",
     "output_type": "stream",
     "text": [
      "all docs [Document(metadata={'source': '/Users/birutekno/Documents/Project/soca-ml-app/materi-gdg/vectoring/sample_files/nama_mentri.pdf', 'file_path': '/Users/birutekno/Documents/Project/soca-ml-app/materi-gdg/vectoring/sample_files/nama_mentri.pdf', 'page': 0, 'total_pages': 5, 'format': 'PDF 1.7', 'title': '', 'author': 'birutekno', 'subject': '', 'keywords': '', 'creator': 'WPS Writer', 'producer': 'macOS Version 12.6 (Build 21G115) Quartz PDFContext', 'creationDate': \"D:20241121130539+06'05'\", 'modDate': \"D:20241121130539+06'05'\", 'trapped': ''}, page_content='1.\\nBudi Gunawan, Menteri Koordinator Bidang Politik dan\\nKeamanan;\\n2.\\nYusril Ihza Mahendra, Menteri Koordinator Bidang\\nHukum, Hak Asasi Manusia, Imigrasi, dan Pemasyarakatan;\\n3.\\nAirlangga\\nHartarto,\\nMenteri\\nKoordinator\\nBidang\\nPerekonomian;\\n4.\\nPratikno, Menteri Koordinator Bidang Pembangunan\\nManusia dan Kebudayaan;\\n5.\\nAgus\\nHarimurti\\nYudhoyono,\\nMenteri\\nKoordinator\\nBidang Infrastruktur dan Pembangunan Kewilayahan:\\n6.\\nAbdul Muhaimin Iskandar, Menteri Koordinator Bidang\\nPemberdayaan Masyarakat;\\n7.\\nZulkifli Hasan, Menteri Koordinator Bidang Pangan;\\n8.\\nPrasetyo Hadi, Menteri Sekretaris Negara;\\n9.\\nMuhammad Tito Karnavian, Menteri Dalam NegerI;\\n10.\\nSugiono, Menteri Luar Negeri;\\n11.\\nSjafrie Sjamsoeddin, Menteri Pertahanan;\\n12.\\nNasaruddin Umar, Menteri Agama;\\n13.\\nSupratman Andi Agtas, Menteri Hukum;\\n14.\\nNatalius Pigai, Menteri Hak Asasi Manusia (HAM);\\n15.\\nAgus Andrianto, Menteri Imigrasi dan Pemasyarakatan;\\n16.\\nSri Mulyani Indrawati, Menteri Keuangan;\\n17.\\nAbdul Mu’ti, Menteri Pendidikan Dasar dan Menengah;\\n18.\\nSatryo Soemantri Brodjonegoro, Menteri Pendidikan\\nTinggi, Sains, dan Teknologi;\\n19.\\nFadli Zon, Menteri Kebudayaan;\\n20.\\nBudi Gunadi Sadikin, Menteri Kesehatan;\\n21.\\nSaifullah Yusuf, Menteri Sosial;\\n22.\\nYassierli, Menteri Ketenagakerjaan;\\n23.\\nAbdul Kadir Karding, Menteri Perlindungan Pekerja\\nMigran\\nIndonesia/Kepala\\nBadan\\nPerlindungan\\nPekerja\\nMigran Indonesia;\\n24.\\nAgus Gumiwang Kartasasmita, Menteri Perindustrian;\\n25.\\nBudi Santoso, Menteri Perdagangan;\\n26.\\nBahlil Lahadalia, Menteri Energi dan Sumber Daya\\nMineral;\\n27.\\nDodi Hanggodo, Menteri Pekerjaan Umum;\\n28.\\nMaruarar Sirait, Menteri Perumahan dan Kawasan\\nPermukiman;\\n29.\\nYandri Susanto, Menteri Desa dan Pembangunan\\nDaerah Tertinggal;\\n30.\\nIftitah Suryanegara, Menteri Transmigrasi;\\n'), Document(metadata={'source': '/Users/birutekno/Documents/Project/soca-ml-app/materi-gdg/vectoring/sample_files/nama_mentri.pdf', 'file_path': '/Users/birutekno/Documents/Project/soca-ml-app/materi-gdg/vectoring/sample_files/nama_mentri.pdf', 'page': 1, 'total_pages': 5, 'format': 'PDF 1.7', 'title': '', 'author': 'birutekno', 'subject': '', 'keywords': '', 'creator': 'WPS Writer', 'producer': 'macOS Version 12.6 (Build 21G115) Quartz PDFContext', 'creationDate': \"D:20241121130539+06'05'\", 'modDate': \"D:20241121130539+06'05'\", 'trapped': ''}, page_content='31.\\nDudy Purwagandhi, Menteri Perhubungan;\\n32.\\nMeutya Viada Hafid, Menteri Komunikasi dan Digital;\\n33.\\nAndi Amran Sulaiman, Menteri Pertanian;\\n34.\\nRaja Juli Antoni, Menteri Kehutanan;\\n35.\\nSakti\\nWahyu\\nTrenggono,\\nMenteri\\nKelautan\\ndan\\nPerikanan;\\n36.\\nNusron\\nWahid,\\nMenteri\\nAgraria\\ndan\\nTata\\nRuang/Kepala Badan Pertanahan Nasional:\\n37.\\nRachmat\\nPambudy,\\nMenteri\\nPerencanaan\\nPembangunan\\nNasional/Kepala\\nBadan\\nPerencanaan\\nNasional;\\n38.\\nRini Widyantini, Menteri Pendayagunaan Aparatur\\nNegara dan Reformasi Birokrasi;\\n39.\\nErick Thohir, Menteri Badan Usaha Milik Negara;\\n40.\\nWihaji, Menteri Kependudukan dan Pembangunan\\nKeluarga/Kepala\\nBadan\\nKependudukan\\ndan\\nKeluarga\\nBerencana Nasional\\n41.\\nHanif\\nFaisol\\nNurofiq,\\nMenteri\\nLingkungan\\nHidup/Kepala Badan Pengendalian Lingkungan Hidup;\\n42.\\nRosan Perkasa\\nRoeslani,\\nMenteri\\nInvestasi dan\\nHilirisasi/Kepala Badan Koordinasi Penanaman Modal:\\n43.\\nBudi Arie Setiadi, Menteri Koperasi;\\n44.\\nMaman Abdurrahman, Menteri Usaha Mikro Kecil dan\\nMenengah;\\n45.\\nWidiyanti Putri, Menteri Pariwisata;\\n46.\\nTeuku Riefky Harsya, Menteri Ekonomi Kreatif/Kepala\\nBadan Ekonomi Kreatif;\\n47.\\nArifatul\\nChoiri\\nFauzi,\\nMenteri\\nPemberdayaan\\nPerempuan dan Perlindungan Anak:\\n48.\\nArio Bimo Nandito Ariotedjo, Menteri Pemuda dan\\nOlahraga;\\nAdapun\\nnama-nama\\npejabat\\nyang\\ntidak\\nberada\\ndi\\nbawah\\nkoordinasi oleh Kementerian Koordinator, yaitu:\\n1.\\nSanitiar Burhanuddin, Jaksa Agung;\\n2.\\nMuhammad Herindra, Kepala Badan Intelijen Negara;\\n3.\\nAM Putranto, Kepala Staf Kepresidenan;\\n4.\\nHasan Nasbi, Kepala Kantor Komunikasi Presiden;\\n5.\\nTeddy Indra Wijaya, Sekretaris Kabinet.\\n'), Document(metadata={'source': '/Users/birutekno/Documents/Project/soca-ml-app/materi-gdg/vectoring/sample_files/nama_mentri.pdf', 'file_path': '/Users/birutekno/Documents/Project/soca-ml-app/materi-gdg/vectoring/sample_files/nama_mentri.pdf', 'page': 2, 'total_pages': 5, 'format': 'PDF 1.7', 'title': '', 'author': 'birutekno', 'subject': '', 'keywords': '', 'creator': 'WPS Writer', 'producer': 'macOS Version 12.6 (Build 21G115) Quartz PDFContext', 'creationDate': \"D:20241121130539+06'05'\", 'modDate': \"D:20241121130539+06'05'\", 'trapped': ''}, page_content='Presiden Prabowo Subianto juga mengumumkan nama-nama\\nwakil menteri negara dalam Kabinet Merah Putih periode 2024-\\n2029.\\n“Saudara-saudara sekalian, saya akan lanjutkan dalam hal ini\\nsaya akan bacakan daftar wakil menteri negara dalam Kabinet\\nMerah Putih periode tahun 2024-2029,” kata Presiden.\\n1.\\nLodewijk F. Paulus, Wakil Menteri Koordinator Bidang\\nPolitik dan Keamanan;\\n2.\\nOtto\\nHasibuan,\\nWakil\\nMenteri\\nKoordinator\\nBidang\\nHukum, Hak Asasi Manusia, Imigrasi, dan Pemasyarakatan;\\n3.\\nBambang Eko Suharyanto, Wakil Menteri Sekretaris\\nNegara;\\n4.\\nJuri Ardiantoro, Wakil Menteri Sekretaris Negara;\\n5.\\nBima Arya Sugiarto, Wakil Menteri Dalam Negeri;\\n6.\\nRibka Haluk, Wakil Menteri Dalam Negeri;\\n7.\\nMuhammad Anis Matta, Wakil Menteri Luar Negeri;\\n8.\\nArrmanatha Christiawan Nasir, Wakil Menteri Luar\\nNegeri;\\n9.\\nArif Havas Oegroseno, Wakil Menteri Luar Negeri;\\n10.\\nDonny Ermawan Taufanto, Wakil Menteri Pertahanan;\\n11.\\nR. Muhammad Syafi’i, Wakil Menteri Agama;\\n12.\\nEdward Omar Sharif Hiariej, Wakil Menteri Hukum;\\n13.\\nMugiyanto, Wakil Menteri Hak Asasi Manusia;\\n14.\\nSilmy\\nKarim,\\nWakil\\nMenteri\\nImigrasi\\ndan\\nPemasyarakatan;\\n15.\\nThomas AM Djiwandono, Wakil Menteri Keuangan;\\n16.\\nSuahasil Nazara, Wakil Menteri Keuangan;\\n17.\\nAnggito Abimanyu, Wakil Menteri Keuangan;\\n18.\\nFajar Riza Ul Haq, Wakil Menteri Pendidikan Dasar\\ndan Menengah;\\n19.\\nAtip Latipulhayat, Wakil Menteri Pendidikan Dasar dan\\nMenengah;\\n20.\\nFauzan, Wakil Menteri Pendidikan Tinggi, Sains, dan\\nTeknologi;\\n21.\\nStella Christie, Wakil Menteri Pendidikan Tinggi, Sains,\\ndan Teknologi;\\n22.\\nGiring Ganesha Djumaryo, Wakil Menteri Kebudayaan;\\n23.\\nDante Saksono Harbuwono, Wakil Menteri Kesehatan;\\n24.\\nAgus Jabo Priyono, Wakil Menteri Sosial;\\n'), Document(metadata={'source': '/Users/birutekno/Documents/Project/soca-ml-app/materi-gdg/vectoring/sample_files/nama_mentri.pdf', 'file_path': '/Users/birutekno/Documents/Project/soca-ml-app/materi-gdg/vectoring/sample_files/nama_mentri.pdf', 'page': 3, 'total_pages': 5, 'format': 'PDF 1.7', 'title': '', 'author': 'birutekno', 'subject': '', 'keywords': '', 'creator': 'WPS Writer', 'producer': 'macOS Version 12.6 (Build 21G115) Quartz PDFContext', 'creationDate': \"D:20241121130539+06'05'\", 'modDate': \"D:20241121130539+06'05'\", 'trapped': ''}, page_content='25.\\nImmanuel\\nEbenezer\\nGerungan,\\nWakil\\nMenteri\\nKetenagakerjaan;\\n26.\\nChristina Aryani, Wakil Menteri Perlindungan Pekerja\\nMigran Indonesia/Wakil Kepala Badan Perlindungan Pekerja\\nMigran Indonesia;\\n27.\\nDzulfikar Ahmad Tawalla, Wakil Menteri Perlindungan\\nPekerja Migran Indonesia/Wakil Kepala Badan Perlindungan\\nPekerja Migran Indonesia;\\n28.\\nFaisol Riza, Wakil Menteri Perindustrian;\\n29.\\nDyah\\nRoro\\nEsti\\nWidya\\nPutri,\\nWakil\\nMenteri\\nPerdagangan;\\n30.\\nYuliot, Wakil Menteri Energi dan Sumber Daya Mineral\\n31.\\nDiana Kusumastuti, Wakil Menteri Pekerjaan Umum;\\n32.\\nFahri\\nHamzah,\\nWakil\\nMenteri\\nPerumahan\\ndan\\nKawasan Permukiman;\\n33.\\nAhmad\\nRiza\\nPatria,\\nWakil\\nMenteri\\nDesa\\ndan\\nPembangunan Daerah Tertinggal;\\n34.\\nViva Yoga Mauladi, Wakil Menteri Transmigrasi;\\n35.\\nSuntana, Wakil Menteri Perhubungan;\\n36.\\nAngga Raka Prabowo, Wakil Menteri Komunikasi dan\\nDigital;\\n37.\\nNezar Patria, Wakil Menteri Komunikasi dan Digital;\\n38.\\nSudaryono, Wakil Menteri Pertanian;\\n39.\\nSulaiman Umar, Wakil Menteri Kehutanan;\\n40.\\nDidit\\nHerdiawan,\\nWakil\\nMenteri\\nKelautan\\ndan\\nPerikanan;\\n41.\\nOssy Dermawan, Wakil Menteri Agraria dan Tata\\nRuang/Wakil Kepala Badan Pertanahan Nasional;\\n42.\\nFebrian\\nAlphyanto\\nRuddyard,\\nWakil\\nMenteri\\nPerencanaan Pembangunan Nasional/Wakil Kepala Badan\\nPerencaaan Pembangunan Nasional;\\n43.\\nPurwadi\\nArianto,\\nWakil\\nMenteri\\nPendayagunaan\\nAparatur Negara dan Reformasi Birokrasi;\\n44.\\nKartiko Wirjoatmodjo, Wakil Menteri Badan Usaha Milik\\nNegara;\\n45.\\nAminuddin Ma’ruf, Wakil Menteri Badan Usaha Milik\\nNegara;\\n46.\\nDony\\nOskaria,\\nWakil\\nMenteri\\nBadan\\nUsaha\\nMilik\\nNegara;\\n47.\\nRatu\\nAyu\\nIsyana\\nBagoes\\nOka,\\nWakil\\nMenteri\\nKependudukan dan Pembangunan Keluarga/Wakil Kepala\\nBadan Kependudukan dan Keluarga Berencana Nasional;\\n'), Document(metadata={'source': '/Users/birutekno/Documents/Project/soca-ml-app/materi-gdg/vectoring/sample_files/nama_mentri.pdf', 'file_path': '/Users/birutekno/Documents/Project/soca-ml-app/materi-gdg/vectoring/sample_files/nama_mentri.pdf', 'page': 4, 'total_pages': 5, 'format': 'PDF 1.7', 'title': '', 'author': 'birutekno', 'subject': '', 'keywords': '', 'creator': 'WPS Writer', 'producer': 'macOS Version 12.6 (Build 21G115) Quartz PDFContext', 'creationDate': \"D:20241121130539+06'05'\", 'modDate': \"D:20241121130539+06'05'\", 'trapped': ''}, page_content='48.\\nDiaz\\nFaisal\\nMalik\\nHendropriyono,\\nWakil\\nMenteri\\nLingkungan\\nHidup/Wakil\\nKepala\\nBadan\\nPengendalian\\nLingkungan Hidup;\\n49.\\nTodotua\\nPasaribu,\\nWakil\\nMenteri\\nInvestasi\\ndan\\nHilirisasi/Wakil Kepala Badan Koordinasi Penanaman Modal;\\n50.\\nFerry Joko Juliantono, Wakil Menteri Koperasi;\\n51.\\nHelvi Yuni Moraza, Wakil Menteri Usaha Kecil dan\\nMenengah;\\n52.\\nNi Luh Enik Ermawati, Wakil Menteri Pariwisata;\\n53.\\nIrene\\nUmar,\\nWakil\\nMenteri\\nEkonomi\\nKreatif/Wakil\\nKepala Badan Ekonomi Kreatif;\\n54.\\nVeronica\\nTan,\\nWakil\\nMenteri\\nPemberdayaan\\nPerempuan dan Perlindungan Anak;\\n55.\\nTaufik Hidayat, Wakil Menteri Pemuda dan Olahraga;\\n56.\\nMuhammad Qodari, Wakil Kepala Staf Kepresidenan.\\n')]\n"
     ]
    },
    {
     "data": {
      "text/plain": [
       "True"
      ]
     },
     "execution_count": 33,
     "metadata": {},
     "output_type": "execute_result"
    }
   ],
   "source": []
  }
 ],
 "metadata": {
  "kernelspec": {
   "display_name": "telin",
   "language": "python",
   "name": "python3"
  },
  "language_info": {
   "codemirror_mode": {
    "name": "ipython",
    "version": 3
   },
   "file_extension": ".py",
   "mimetype": "text/x-python",
   "name": "python",
   "nbconvert_exporter": "python",
   "pygments_lexer": "ipython3",
   "version": "3.12.0"
  }
 },
 "nbformat": 4,
 "nbformat_minor": 2
}
