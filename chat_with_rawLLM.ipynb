{
 "cells": [
  {
   "cell_type": "code",
   "execution_count": 1,
   "metadata": {},
   "outputs": [
    {
     "name": "stdout",
     "output_type": "stream",
     "text": [
      "Requirement already satisfied: langchain==0.3.7 in /Users/birutekno/miniconda3/envs/telin/lib/python3.12/site-packages (from -r requirements.txt (line 1)) (0.3.7)\n",
      "Requirement already satisfied: langchain-community==0.3.5 in /Users/birutekno/miniconda3/envs/telin/lib/python3.12/site-packages (from -r requirements.txt (line 2)) (0.3.5)\n",
      "Requirement already satisfied: langchain-core==0.3.15 in /Users/birutekno/miniconda3/envs/telin/lib/python3.12/site-packages (from -r requirements.txt (line 3)) (0.3.15)\n",
      "Requirement already satisfied: langchain-ollama==0.2.0 in /Users/birutekno/miniconda3/envs/telin/lib/python3.12/site-packages (from -r requirements.txt (line 4)) (0.2.0)\n",
      "Requirement already satisfied: langchain-openai==0.2.6 in /Users/birutekno/miniconda3/envs/telin/lib/python3.12/site-packages (from -r requirements.txt (line 5)) (0.2.6)\n",
      "Requirement already satisfied: langchain-text-splitters==0.3.2 in /Users/birutekno/miniconda3/envs/telin/lib/python3.12/site-packages (from -r requirements.txt (line 6)) (0.3.2)\n",
      "Requirement already satisfied: PyYAML>=5.3 in /Users/birutekno/miniconda3/envs/telin/lib/python3.12/site-packages (from langchain==0.3.7->-r requirements.txt (line 1)) (6.0.2)\n",
      "Requirement already satisfied: SQLAlchemy<3,>=1.4 in /Users/birutekno/miniconda3/envs/telin/lib/python3.12/site-packages (from langchain==0.3.7->-r requirements.txt (line 1)) (2.0.35)\n",
      "Requirement already satisfied: aiohttp<4.0.0,>=3.8.3 in /Users/birutekno/miniconda3/envs/telin/lib/python3.12/site-packages (from langchain==0.3.7->-r requirements.txt (line 1)) (3.10.10)\n",
      "Requirement already satisfied: langsmith<0.2.0,>=0.1.17 in /Users/birutekno/miniconda3/envs/telin/lib/python3.12/site-packages (from langchain==0.3.7->-r requirements.txt (line 1)) (0.1.140)\n",
      "Requirement already satisfied: numpy<2.0.0,>=1.26.0 in /Users/birutekno/miniconda3/envs/telin/lib/python3.12/site-packages (from langchain==0.3.7->-r requirements.txt (line 1)) (1.26.4)\n",
      "Requirement already satisfied: pydantic<3.0.0,>=2.7.4 in /Users/birutekno/miniconda3/envs/telin/lib/python3.12/site-packages (from langchain==0.3.7->-r requirements.txt (line 1)) (2.9.2)\n",
      "Requirement already satisfied: requests<3,>=2 in /Users/birutekno/miniconda3/envs/telin/lib/python3.12/site-packages (from langchain==0.3.7->-r requirements.txt (line 1)) (2.32.3)\n",
      "Requirement already satisfied: tenacity!=8.4.0,<10,>=8.1.0 in /Users/birutekno/miniconda3/envs/telin/lib/python3.12/site-packages (from langchain==0.3.7->-r requirements.txt (line 1)) (9.0.0)\n",
      "Requirement already satisfied: dataclasses-json<0.7,>=0.5.7 in /Users/birutekno/miniconda3/envs/telin/lib/python3.12/site-packages (from langchain-community==0.3.5->-r requirements.txt (line 2)) (0.6.7)\n",
      "Requirement already satisfied: httpx-sse<0.5.0,>=0.4.0 in /Users/birutekno/miniconda3/envs/telin/lib/python3.12/site-packages (from langchain-community==0.3.5->-r requirements.txt (line 2)) (0.4.0)\n",
      "Requirement already satisfied: pydantic-settings<3.0.0,>=2.4.0 in /Users/birutekno/miniconda3/envs/telin/lib/python3.12/site-packages (from langchain-community==0.3.5->-r requirements.txt (line 2)) (2.6.1)\n",
      "Requirement already satisfied: jsonpatch<2.0,>=1.33 in /Users/birutekno/miniconda3/envs/telin/lib/python3.12/site-packages (from langchain-core==0.3.15->-r requirements.txt (line 3)) (1.33)\n",
      "Requirement already satisfied: packaging<25,>=23.2 in /Users/birutekno/miniconda3/envs/telin/lib/python3.12/site-packages (from langchain-core==0.3.15->-r requirements.txt (line 3)) (24.1)\n",
      "Requirement already satisfied: typing-extensions>=4.7 in /Users/birutekno/miniconda3/envs/telin/lib/python3.12/site-packages (from langchain-core==0.3.15->-r requirements.txt (line 3)) (4.12.2)\n",
      "Requirement already satisfied: ollama<1,>=0.3.0 in /Users/birutekno/miniconda3/envs/telin/lib/python3.12/site-packages (from langchain-ollama==0.2.0->-r requirements.txt (line 4)) (0.3.3)\n",
      "Requirement already satisfied: openai<2.0.0,>=1.54.0 in /Users/birutekno/miniconda3/envs/telin/lib/python3.12/site-packages (from langchain-openai==0.2.6->-r requirements.txt (line 5)) (1.54.1)\n",
      "Requirement already satisfied: tiktoken<1,>=0.7 in /Users/birutekno/miniconda3/envs/telin/lib/python3.12/site-packages (from langchain-openai==0.2.6->-r requirements.txt (line 5)) (0.8.0)\n",
      "Requirement already satisfied: aiohappyeyeballs>=2.3.0 in /Users/birutekno/miniconda3/envs/telin/lib/python3.12/site-packages (from aiohttp<4.0.0,>=3.8.3->langchain==0.3.7->-r requirements.txt (line 1)) (2.4.3)\n",
      "Requirement already satisfied: aiosignal>=1.1.2 in /Users/birutekno/miniconda3/envs/telin/lib/python3.12/site-packages (from aiohttp<4.0.0,>=3.8.3->langchain==0.3.7->-r requirements.txt (line 1)) (1.3.1)\n",
      "Requirement already satisfied: attrs>=17.3.0 in /Users/birutekno/miniconda3/envs/telin/lib/python3.12/site-packages (from aiohttp<4.0.0,>=3.8.3->langchain==0.3.7->-r requirements.txt (line 1)) (24.2.0)\n",
      "Requirement already satisfied: frozenlist>=1.1.1 in /Users/birutekno/miniconda3/envs/telin/lib/python3.12/site-packages (from aiohttp<4.0.0,>=3.8.3->langchain==0.3.7->-r requirements.txt (line 1)) (1.5.0)\n",
      "Requirement already satisfied: multidict<7.0,>=4.5 in /Users/birutekno/miniconda3/envs/telin/lib/python3.12/site-packages (from aiohttp<4.0.0,>=3.8.3->langchain==0.3.7->-r requirements.txt (line 1)) (6.1.0)\n",
      "Requirement already satisfied: yarl<2.0,>=1.12.0 in /Users/birutekno/miniconda3/envs/telin/lib/python3.12/site-packages (from aiohttp<4.0.0,>=3.8.3->langchain==0.3.7->-r requirements.txt (line 1)) (1.17.1)\n",
      "Requirement already satisfied: marshmallow<4.0.0,>=3.18.0 in /Users/birutekno/miniconda3/envs/telin/lib/python3.12/site-packages (from dataclasses-json<0.7,>=0.5.7->langchain-community==0.3.5->-r requirements.txt (line 2)) (3.23.1)\n",
      "Requirement already satisfied: typing-inspect<1,>=0.4.0 in /Users/birutekno/miniconda3/envs/telin/lib/python3.12/site-packages (from dataclasses-json<0.7,>=0.5.7->langchain-community==0.3.5->-r requirements.txt (line 2)) (0.9.0)\n",
      "Requirement already satisfied: jsonpointer>=1.9 in /Users/birutekno/miniconda3/envs/telin/lib/python3.12/site-packages (from jsonpatch<2.0,>=1.33->langchain-core==0.3.15->-r requirements.txt (line 3)) (3.0.0)\n",
      "Requirement already satisfied: httpx<1,>=0.23.0 in /Users/birutekno/miniconda3/envs/telin/lib/python3.12/site-packages (from langsmith<0.2.0,>=0.1.17->langchain==0.3.7->-r requirements.txt (line 1)) (0.27.2)\n",
      "Requirement already satisfied: orjson<4.0.0,>=3.9.14 in /Users/birutekno/miniconda3/envs/telin/lib/python3.12/site-packages (from langsmith<0.2.0,>=0.1.17->langchain==0.3.7->-r requirements.txt (line 1)) (3.10.11)\n",
      "Requirement already satisfied: requests-toolbelt<2.0.0,>=1.0.0 in /Users/birutekno/miniconda3/envs/telin/lib/python3.12/site-packages (from langsmith<0.2.0,>=0.1.17->langchain==0.3.7->-r requirements.txt (line 1)) (1.0.0)\n",
      "Requirement already satisfied: anyio<5,>=3.5.0 in /Users/birutekno/miniconda3/envs/telin/lib/python3.12/site-packages (from openai<2.0.0,>=1.54.0->langchain-openai==0.2.6->-r requirements.txt (line 5)) (4.6.2.post1)\n",
      "Requirement already satisfied: distro<2,>=1.7.0 in /Users/birutekno/miniconda3/envs/telin/lib/python3.12/site-packages (from openai<2.0.0,>=1.54.0->langchain-openai==0.2.6->-r requirements.txt (line 5)) (1.9.0)\n",
      "Requirement already satisfied: jiter<1,>=0.4.0 in /Users/birutekno/miniconda3/envs/telin/lib/python3.12/site-packages (from openai<2.0.0,>=1.54.0->langchain-openai==0.2.6->-r requirements.txt (line 5)) (0.7.0)\n",
      "Requirement already satisfied: sniffio in /Users/birutekno/miniconda3/envs/telin/lib/python3.12/site-packages (from openai<2.0.0,>=1.54.0->langchain-openai==0.2.6->-r requirements.txt (line 5)) (1.3.1)\n",
      "Requirement already satisfied: tqdm>4 in /Users/birutekno/miniconda3/envs/telin/lib/python3.12/site-packages (from openai<2.0.0,>=1.54.0->langchain-openai==0.2.6->-r requirements.txt (line 5)) (4.66.6)\n",
      "Requirement already satisfied: annotated-types>=0.6.0 in /Users/birutekno/miniconda3/envs/telin/lib/python3.12/site-packages (from pydantic<3.0.0,>=2.7.4->langchain==0.3.7->-r requirements.txt (line 1)) (0.7.0)\n",
      "Requirement already satisfied: pydantic-core==2.23.4 in /Users/birutekno/miniconda3/envs/telin/lib/python3.12/site-packages (from pydantic<3.0.0,>=2.7.4->langchain==0.3.7->-r requirements.txt (line 1)) (2.23.4)\n",
      "Requirement already satisfied: python-dotenv>=0.21.0 in /Users/birutekno/miniconda3/envs/telin/lib/python3.12/site-packages (from pydantic-settings<3.0.0,>=2.4.0->langchain-community==0.3.5->-r requirements.txt (line 2)) (1.0.1)\n",
      "Requirement already satisfied: charset-normalizer<4,>=2 in /Users/birutekno/miniconda3/envs/telin/lib/python3.12/site-packages (from requests<3,>=2->langchain==0.3.7->-r requirements.txt (line 1)) (3.4.0)\n",
      "Requirement already satisfied: idna<4,>=2.5 in /Users/birutekno/miniconda3/envs/telin/lib/python3.12/site-packages (from requests<3,>=2->langchain==0.3.7->-r requirements.txt (line 1)) (3.10)\n",
      "Requirement already satisfied: urllib3<3,>=1.21.1 in /Users/birutekno/miniconda3/envs/telin/lib/python3.12/site-packages (from requests<3,>=2->langchain==0.3.7->-r requirements.txt (line 1)) (2.2.3)\n",
      "Requirement already satisfied: certifi>=2017.4.17 in /Users/birutekno/miniconda3/envs/telin/lib/python3.12/site-packages (from requests<3,>=2->langchain==0.3.7->-r requirements.txt (line 1)) (2024.8.30)\n",
      "Requirement already satisfied: regex>=2022.1.18 in /Users/birutekno/miniconda3/envs/telin/lib/python3.12/site-packages (from tiktoken<1,>=0.7->langchain-openai==0.2.6->-r requirements.txt (line 5)) (2024.9.11)\n",
      "Requirement already satisfied: httpcore==1.* in /Users/birutekno/miniconda3/envs/telin/lib/python3.12/site-packages (from httpx<1,>=0.23.0->langsmith<0.2.0,>=0.1.17->langchain==0.3.7->-r requirements.txt (line 1)) (1.0.6)\n",
      "Requirement already satisfied: h11<0.15,>=0.13 in /Users/birutekno/miniconda3/envs/telin/lib/python3.12/site-packages (from httpcore==1.*->httpx<1,>=0.23.0->langsmith<0.2.0,>=0.1.17->langchain==0.3.7->-r requirements.txt (line 1)) (0.14.0)\n",
      "Requirement already satisfied: mypy-extensions>=0.3.0 in /Users/birutekno/miniconda3/envs/telin/lib/python3.12/site-packages (from typing-inspect<1,>=0.4.0->dataclasses-json<0.7,>=0.5.7->langchain-community==0.3.5->-r requirements.txt (line 2)) (1.0.0)\n",
      "Requirement already satisfied: propcache>=0.2.0 in /Users/birutekno/miniconda3/envs/telin/lib/python3.12/site-packages (from yarl<2.0,>=1.12.0->aiohttp<4.0.0,>=3.8.3->langchain==0.3.7->-r requirements.txt (line 1)) (0.2.0)\n"
     ]
    }
   ],
   "source": [
    "!pip install -r requirements.txt"
   ]
  },
  {
   "cell_type": "code",
   "execution_count": 4,
   "metadata": {},
   "outputs": [
    {
     "name": "stdout",
     "output_type": "stream",
     "text": [
      "AI Response:\n",
      "Saya tidak tahu.  \n",
      "\n",
      "Presiden Indonesia periode 2024-2029 belum ditentukan karena pemilihannya akan berlangsung pada tahun 2024. \n",
      "\n"
     ]
    }
   ],
   "source": [
    "from langchain_ollama import ChatOllama\n",
    "from langchain.schema import HumanMessage, SystemMessage\n",
    "from dotenv import dotenv_values\n",
    "\n",
    "config = dotenv_values('.env')\n",
    "def test_chat_with_ollama():\n",
    "    ollama_model = \"gemma2:9b\"\n",
    "    api_url = config['IP_OLLAMA']\n",
    "    system_prompt= \"kamu adalah asisten cerdas untuk melakukan percakapan dengan manusia, jawab pertanyaan user menggunakan bahasa indonesia. jika kamu tidak tahu jawaban nya cukup jawab saya tidak tahu\"\n",
    "\n",
    "    user_input = \"hai, siapakah presiden indonesia 2024\"\n",
    "    messages = [\n",
    "        SystemMessage(content=system_prompt),\n",
    "        HumanMessage(content=user_input)\n",
    "    ]\n",
    "    \n",
    "\n",
    "    chat_model = ChatOllama(\n",
    "        model=ollama_model,\n",
    "        base_url=api_url\n",
    "    )\n",
    "    \n",
    "    response = chat_model.invoke(messages)\n",
    "    \n",
    "    print(\"AI Response:\")\n",
    "    print(response.content)\n",
    "\n",
    "if __name__ == \"__main__\":\n",
    "    test_chat_with_ollama()\n"
   ]
  }
 ],
 "metadata": {
  "kernelspec": {
   "display_name": "telin",
   "language": "python",
   "name": "python3"
  },
  "language_info": {
   "codemirror_mode": {
    "name": "ipython",
    "version": 3
   },
   "file_extension": ".py",
   "mimetype": "text/x-python",
   "name": "python",
   "nbconvert_exporter": "python",
   "pygments_lexer": "ipython3",
   "version": "3.12.0"
  }
 },
 "nbformat": 4,
 "nbformat_minor": 2
}
